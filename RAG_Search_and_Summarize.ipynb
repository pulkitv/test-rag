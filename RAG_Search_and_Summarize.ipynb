{
  "nbformat": 4,
  "nbformat_minor": 0,
  "metadata": {
    "colab": {
      "provenance": [],
      "authorship_tag": "ABX9TyMAhSTvja+3/3X7QPsEmI8q",
      "include_colab_link": true
    },
    "kernelspec": {
      "name": "python3",
      "display_name": "Python 3"
    },
    "language_info": {
      "name": "python"
    }
  },
  "cells": [
    {
      "cell_type": "markdown",
      "metadata": {
        "id": "view-in-github",
        "colab_type": "text"
      },
      "source": [
        "<a href=\"https://colab.research.google.com/github/pulkitv/test-rag/blob/main/RAG_Search_and_Summarize.ipynb\" target=\"_parent\"><img src=\"https://colab.research.google.com/assets/colab-badge.svg\" alt=\"Open In Colab\"/></a>"
      ]
    },
    {
      "cell_type": "code",
      "execution_count": 1,
      "metadata": {
        "id": "AXJpshWlMtXW"
      },
      "outputs": [],
      "source": [
        "import os\n",
        "from google.colab import userdata\n",
        "\n",
        "OPENAI_API_KEY = userdata.get('OPENAI_API_KEY')\n",
        "GOOGLE_API_KEY = userdata.get('GOOGLE_API_KEY')\n",
        "GOOGLE_CSE_ID = userdata.get('GOOGLE_CSE_ID')\n",
        "\n",
        "os.environ[\"GOOGLE_API_KEY\"] = GOOGLE_API_KEY\n",
        "os.environ[\"GOOGLE_CSE_ID\"] = GOOGLE_CSE_ID\n",
        "os.environ[\"OPENAI_API_KEY\"] = OPENAI_API_KEY\n"
      ]
    },
    {
      "cell_type": "code",
      "source": [
        "from langchain.llms import OpenAI\n",
        "from langchain.agents import Tool\n",
        "from langchain.utilities import GoogleSearchAPIWrapper\n",
        "from langchain.prompts import PromptTemplate\n",
        "from langchain.chains import LLMChain\n",
        "from langchain.agents import initialize_agent, AgentType"
      ],
      "metadata": {
        "colab": {
          "base_uri": "https://localhost:8080/"
        },
        "id": "bKcMBIAlM2qT",
        "outputId": "02885de5-c7b4-4862-aa99-e982156d89e3"
      },
      "execution_count": 2,
      "outputs": [
        {
          "output_type": "stream",
          "name": "stderr",
          "text": [
            "/usr/local/lib/python3.11/dist-packages/deeplake/util/check_latest_version.py:32: UserWarning: A newer version of deeplake (4.1.19) is available. It's recommended that you update to the latest version using `pip install -U deeplake`.\n",
            "  warnings.warn(\n"
          ]
        }
      ]
    },
    {
      "cell_type": "code",
      "source": [
        "# Initialize LLM chain\n",
        "\n",
        "llm = OpenAI(model=\"gpt-3.5-turbo-instruct\", temperature=0, openai_api_key=OPENAI_API_KEY)\n",
        "\n",
        "prompt = PromptTemplate(\n",
        "    input_variables=[\"query\"],\n",
        "    template=\"Write a summary of the following text: {query}\"\n",
        ")\n",
        "\n",
        "summarize_chain = LLMChain(llm=llm, prompt=prompt)"
      ],
      "metadata": {
        "id": "iSpNhF6MM643"
      },
      "execution_count": 3,
      "outputs": []
    },
    {
      "cell_type": "code",
      "source": [
        "# remember to set the environment variables\n",
        "# “GOOGLE_API_KEY” and “GOOGLE_CSE_ID” to be able to use\n",
        "# Google Search via API.\n",
        "search = GoogleSearchAPIWrapper()\n",
        "\n",
        "tools = [\n",
        "    Tool(\n",
        "        name=\"Search\",\n",
        "        func=search.run,\n",
        "        description=\"useful for finding information about recent events\"\n",
        "    ),\n",
        "    Tool(\n",
        "       name='Summarizer',\n",
        "       func=summarize_chain.run,\n",
        "       description='useful for summarizing texts'\n",
        "    )\n",
        "]"
      ],
      "metadata": {
        "id": "uUafQvkYNAr3"
      },
      "execution_count": 4,
      "outputs": []
    },
    {
      "cell_type": "code",
      "source": [
        "# We are now ready to create our agent that leverages two tools.\n",
        "\n",
        "\n",
        "agent = initialize_agent(\n",
        "    tools,\n",
        "    llm,\n",
        "    agent=AgentType.ZERO_SHOT_REACT_DESCRIPTION,\n",
        "    verbose=True\n",
        ")"
      ],
      "metadata": {
        "id": "GpGqimAkNUAD"
      },
      "execution_count": 5,
      "outputs": []
    },
    {
      "cell_type": "code",
      "source": [
        "response = agent(\"What's the latest news about the Mars rover? Then please summarize the results.\")\n",
        "print(response['output'])"
      ],
      "metadata": {
        "colab": {
          "base_uri": "https://localhost:8080/"
        },
        "id": "SJuU6BENNUnc",
        "outputId": "19364280-4a91-4758-ae26-73d08283a0ee"
      },
      "execution_count": 6,
      "outputs": [
        {
          "output_type": "stream",
          "name": "stdout",
          "text": [
            "\n",
            "\n",
            "\u001b[1m> Entering new  chain...\u001b[0m\n",
            "\u001b[32;1m\u001b[1;3m I should use the Search tool to find recent news about the Mars rover.\n",
            "Action: Search\n",
            "Action Input: \"Mars rover news\"\u001b[0m\n",
            "Observation: \u001b[36;1m\u001b[1;3mMar 24, 2025 ... Scientists analyzing pulverized rock onboard NASA's Curiosity rover have found the largest organic compounds on the Red Planet to date. The ... 4 days ago ... Among several recent findings, the rover has found rocks made of pure sulfur — a first on the Red Planet. Scientists were stunned on May 30 when ... Dec 19, 2024 ... Mars rover makes it to the top. After a 4-month uphill trek on the Red Planet, NASA's Perseverance rover reached the top of the Jezero crater's ... Feb 1, 2025 ... NASA's Perseverance rover landed on Mars in 2021 to search for signs of ancient microbial life and… Article. NASA's Curiosity Rover Detects ... Apr 1, 2025 ... ... news release. Curiosity takes closer look at Cumberland rock. NASA's Curiosity rover drilled into this rock target, \"Cumberland,\" during the ... Mar 5, 2025 ... Mars expert Roger Wiens and his team, including rover Perseverance ... Research News. Discovery reveals how a specialized structure in ... Apr 21, 2021 ... Press Mentions · Related Links · Related Topics · Related Articles · More MIT News. Dec 13, 2023 ... Nasa says its Perseverance rover has essentially completed the job it was asked to do when it landed on Mars in February 2021. Feb 24, 2025 ... A panoramic photo taken by the Zhurong Mars rover on Mars. Credit ... News of Record · Publications · University Park · Earth and Mineral ... Mar 12, 2025 ... Dark-rimmed 'leopard spots' in a rock studied by the rover last year could be the remains of Martian microbial activity, researchers said at a ...\u001b[0m\n",
            "Thought:\u001b[32;1m\u001b[1;3m I should use the Summarizer tool to summarize the news articles about the Mars rover.\n",
            "Action: Summarizer\n",
            "Action Input: \"Mars rover news\"\u001b[0m\n",
            "Observation: \u001b[33;1m\u001b[1;3m\n",
            "\n",
            "The text discusses recent news about the Mars rover, a robotic vehicle that has been exploring the surface of Mars since 2012. The rover, named Curiosity, has made several important discoveries, including evidence of past water on the planet and the potential for microbial life. It has also faced challenges, such as a recent software glitch that temporarily halted its operations. However, the rover has continued to gather valuable data and is currently on its way to a new location to continue its exploration. The article also mentions the upcoming launch of a new rover, Perseverance, which will join Curiosity on Mars in 2021. Overall, the Mars rover continues to be a crucial tool in our understanding of the red planet and its potential for supporting life.\u001b[0m\n",
            "Thought:\u001b[32;1m\u001b[1;3m I now know the final answer.\n",
            "Final Answer: The latest news about the Mars rover is that it has made several important discoveries and is currently on its way to a new location to continue its exploration. The upcoming launch of a new rover, Perseverance, is also mentioned.\u001b[0m\n",
            "\n",
            "\u001b[1m> Finished chain.\u001b[0m\n",
            "The latest news about the Mars rover is that it has made several important discoveries and is currently on its way to a new location to continue its exploration. The upcoming launch of a new rover, Perseverance, is also mentioned.\n"
          ]
        }
      ]
    }
  ]
}